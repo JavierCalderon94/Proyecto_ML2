from sklearn.model_selection import train_test_split 
import pandas as pd
import seaborn as sns
import matplotlib.pyplot as plt
import numpy as np
import statistics
import os